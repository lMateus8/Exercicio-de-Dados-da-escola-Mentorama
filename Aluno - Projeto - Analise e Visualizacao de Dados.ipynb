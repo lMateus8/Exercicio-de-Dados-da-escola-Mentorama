{
 "cells": [
  {
   "attachments": {
    "image.png": {
     "image/png": "[encoded data removed]"
    }
   },
   "cell_type": "markdown",
   "metadata": {},
   "source": [
    "# Projeto - Análise e Visualização de Dados\n",
    "\n",
    "Em nossas aulas, conhecemos as principais bibliotecas para se trabalhar com Análise e Visualização de Dados em Python. Aprendemos também como trabalhar com tabelas e fazer operações sobre elas, de modo que possamos analisar e inferir sobre uma base de dados existente.\n",
    "\n",
    "Para este projeto, imagine que o seu chefe disponibilize uma base de dados para que você possa analisá-la a partir dos seus conhecimentos em Python. Para essa tarefa, você deve utilizar o Matplotlib para visualização de alguns gráficos e demais bibliotecas, Pandas e NumPy para análise e manipulação dos dados. Com o correto uso das funcionalidades da linguagem, você será capaz de conduzir de maneira correta, a análise e visualização de dados, trabalho básico de um Cientista de Dados.\n",
    "Para iniciar o seu projeto, siga as instruções abaixo:\n",
    "\n",
    "* Faça o download dos arquivos disponibilizados nesta aula e armazene na mesma pasta em que irá armazenar os seus arquivos de código.\n",
    "* Carregue a tabela .csv para que você possa fazer a leitura de dados da mesma\n",
    "* Imprima parte do conteúdo para verificar se a leitura está acontecendo corretamente\n",
    "![image.png](attachment:image.png)\n",
    "\n",
    "**Obs: Nessa primeira etapa, indicada pelas instruções acima, eu já te ajudei, indicando o caminho para carregar a tabela, conforme código abaixo :D #ThanksGod**"
   ]
  },
  {
   "cell_type": "code",
   "execution_count": null,
   "metadata": {},
   "outputs": [],
   "source": []
  },
  {
   "cell_type": "code",
   "execution_count": 1,
   "metadata": {},
   "outputs": [
    {
     "data": {
      "text/html": [
       "<div>\n",
       "<style scoped>\n",
       "    .dataframe tbody tr th:only-of-type {\n",
       "        vertical-align: middle;\n",
       "    }\n",
       "\n",
       "    .dataframe tbody tr th {\n",
       "        vertical-align: top;\n",
       "    }\n",
       "\n",
       "    .dataframe thead th {\n",
       "        text-align: right;\n",
       "    }\n",
       "</style>\n",
       "<table border=\"1\" class=\"dataframe\">\n",
       "  <thead>\n",
       "    <tr style=\"text-align: right;\">\n",
       "      <th></th>\n",
       "      <th>Gestor</th>\n",
       "      <th>Canal de Origem</th>\n",
       "      <th>Região</th>\n",
       "      <th>UF</th>\n",
       "      <th>Cidade</th>\n",
       "      <th>Sexo</th>\n",
       "      <th>Faixa Etária</th>\n",
       "      <th>Ano Abertura</th>\n",
       "      <th>Mês Abertura</th>\n",
       "      <th>Data Abertura</th>\n",
       "      <th>...</th>\n",
       "      <th>Como Comprou Contratou</th>\n",
       "      <th>Procurou Empresa</th>\n",
       "      <th>Respondida</th>\n",
       "      <th>Situação</th>\n",
       "      <th>Avaliação Reclamação</th>\n",
       "      <th>Nota do Consumidor</th>\n",
       "      <th>Análise da Recusa</th>\n",
       "      <th>Edição de Conteúdo</th>\n",
       "      <th>Interação do Gestor</th>\n",
       "      <th>Total</th>\n",
       "    </tr>\n",
       "  </thead>\n",
       "  <tbody>\n",
       "    <tr>\n",
       "      <th>0</th>\n",
       "      <td>Secretaria Nacional do Consumidor</td>\n",
       "      <td>Não identificado</td>\n",
       "      <td>SE</td>\n",
       "      <td>RJ</td>\n",
       "      <td>Itaboraí</td>\n",
       "      <td>M</td>\n",
       "      <td>entre 31 a 40 anos</td>\n",
       "      <td>2014</td>\n",
       "      <td>6</td>\n",
       "      <td>27/06/2014</td>\n",
       "      <td>...</td>\n",
       "      <td>Não comprei / contratei</td>\n",
       "      <td>S</td>\n",
       "      <td>S</td>\n",
       "      <td>Finalizada não avaliada</td>\n",
       "      <td>Não Avaliada</td>\n",
       "      <td>NaN</td>\n",
       "      <td>NaN</td>\n",
       "      <td>N</td>\n",
       "      <td>N</td>\n",
       "      <td>1</td>\n",
       "    </tr>\n",
       "    <tr>\n",
       "      <th>1</th>\n",
       "      <td>Instituto Estadual de Proteção e Defesa do Con...</td>\n",
       "      <td>Não identificado</td>\n",
       "      <td>SE</td>\n",
       "      <td>ES</td>\n",
       "      <td>Serra</td>\n",
       "      <td>F</td>\n",
       "      <td>entre 31 a 40 anos</td>\n",
       "      <td>2014</td>\n",
       "      <td>6</td>\n",
       "      <td>11/06/2014</td>\n",
       "      <td>...</td>\n",
       "      <td>Internet</td>\n",
       "      <td>S</td>\n",
       "      <td>S</td>\n",
       "      <td>Finalizada avaliada</td>\n",
       "      <td>Não Resolvida</td>\n",
       "      <td>1.0</td>\n",
       "      <td>NaN</td>\n",
       "      <td>N</td>\n",
       "      <td>N</td>\n",
       "      <td>1</td>\n",
       "    </tr>\n",
       "    <tr>\n",
       "      <th>2</th>\n",
       "      <td>Secretaria Nacional do Consumidor</td>\n",
       "      <td>Não identificado</td>\n",
       "      <td>SE</td>\n",
       "      <td>RJ</td>\n",
       "      <td>Volta Redonda</td>\n",
       "      <td>M</td>\n",
       "      <td>entre 31 a 40 anos</td>\n",
       "      <td>2014</td>\n",
       "      <td>6</td>\n",
       "      <td>27/06/2014</td>\n",
       "      <td>...</td>\n",
       "      <td>Internet</td>\n",
       "      <td>S</td>\n",
       "      <td>S</td>\n",
       "      <td>Finalizada avaliada</td>\n",
       "      <td>Resolvida</td>\n",
       "      <td>5.0</td>\n",
       "      <td>NaN</td>\n",
       "      <td>N</td>\n",
       "      <td>N</td>\n",
       "      <td>1</td>\n",
       "    </tr>\n",
       "    <tr>\n",
       "      <th>3</th>\n",
       "      <td>Instituto de Promoção e Defesa do Cidadão e Co...</td>\n",
       "      <td>Não identificado</td>\n",
       "      <td>NE</td>\n",
       "      <td>MA</td>\n",
       "      <td>São Luís</td>\n",
       "      <td>F</td>\n",
       "      <td>entre 31 a 40 anos</td>\n",
       "      <td>2014</td>\n",
       "      <td>5</td>\n",
       "      <td>29/05/2014</td>\n",
       "      <td>...</td>\n",
       "      <td>Não comprei / contratei</td>\n",
       "      <td>S</td>\n",
       "      <td>S</td>\n",
       "      <td>Finalizada avaliada</td>\n",
       "      <td>Resolvida</td>\n",
       "      <td>5.0</td>\n",
       "      <td>NaN</td>\n",
       "      <td>N</td>\n",
       "      <td>N</td>\n",
       "      <td>1</td>\n",
       "    </tr>\n",
       "    <tr>\n",
       "      <th>4</th>\n",
       "      <td>Secretaria de Desenvolvimento Social e Direito...</td>\n",
       "      <td>Não identificado</td>\n",
       "      <td>NE</td>\n",
       "      <td>PE</td>\n",
       "      <td>Recife</td>\n",
       "      <td>M</td>\n",
       "      <td>entre 21 a 30 anos</td>\n",
       "      <td>2014</td>\n",
       "      <td>6</td>\n",
       "      <td>30/06/2014</td>\n",
       "      <td>...</td>\n",
       "      <td>Internet</td>\n",
       "      <td>S</td>\n",
       "      <td>S</td>\n",
       "      <td>Finalizada não avaliada</td>\n",
       "      <td>Não Avaliada</td>\n",
       "      <td>NaN</td>\n",
       "      <td>NaN</td>\n",
       "      <td>N</td>\n",
       "      <td>N</td>\n",
       "      <td>1</td>\n",
       "    </tr>\n",
       "    <tr>\n",
       "      <th>...</th>\n",
       "      <td>...</td>\n",
       "      <td>...</td>\n",
       "      <td>...</td>\n",
       "      <td>...</td>\n",
       "      <td>...</td>\n",
       "      <td>...</td>\n",
       "      <td>...</td>\n",
       "      <td>...</td>\n",
       "      <td>...</td>\n",
       "      <td>...</td>\n",
       "      <td>...</td>\n",
       "      <td>...</td>\n",
       "      <td>...</td>\n",
       "      <td>...</td>\n",
       "      <td>...</td>\n",
       "      <td>...</td>\n",
       "      <td>...</td>\n",
       "      <td>...</td>\n",
       "      <td>...</td>\n",
       "      <td>...</td>\n",
       "      <td>...</td>\n",
       "    </tr>\n",
       "    <tr>\n",
       "      <th>43982</th>\n",
       "      <td>Instituto de Defesa do Consumidor - Procon</td>\n",
       "      <td>Plataforma Web</td>\n",
       "      <td>CO</td>\n",
       "      <td>DF</td>\n",
       "      <td>Brasília</td>\n",
       "      <td>M</td>\n",
       "      <td>entre 31 a 40 anos</td>\n",
       "      <td>2014</td>\n",
       "      <td>12</td>\n",
       "      <td>01/12/2014</td>\n",
       "      <td>...</td>\n",
       "      <td>Internet</td>\n",
       "      <td>S</td>\n",
       "      <td>S</td>\n",
       "      <td>Finalizada não avaliada</td>\n",
       "      <td>Não Avaliada</td>\n",
       "      <td>NaN</td>\n",
       "      <td>NaN</td>\n",
       "      <td>N</td>\n",
       "      <td>N</td>\n",
       "      <td>1</td>\n",
       "    </tr>\n",
       "    <tr>\n",
       "      <th>43983</th>\n",
       "      <td>Fundação de Proteção e Defesa do Consumidor</td>\n",
       "      <td>Plataforma Web</td>\n",
       "      <td>SE</td>\n",
       "      <td>SP</td>\n",
       "      <td>São Bernardo do Campo</td>\n",
       "      <td>M</td>\n",
       "      <td>entre 31 a 40 anos</td>\n",
       "      <td>2014</td>\n",
       "      <td>11</td>\n",
       "      <td>30/11/2014</td>\n",
       "      <td>...</td>\n",
       "      <td>Internet</td>\n",
       "      <td>S</td>\n",
       "      <td>S</td>\n",
       "      <td>Finalizada avaliada</td>\n",
       "      <td>Não Resolvida</td>\n",
       "      <td>1.0</td>\n",
       "      <td>NaN</td>\n",
       "      <td>N</td>\n",
       "      <td>N</td>\n",
       "      <td>1</td>\n",
       "    </tr>\n",
       "    <tr>\n",
       "      <th>43984</th>\n",
       "      <td>Fundação de Proteção e Defesa do Consumidor</td>\n",
       "      <td>Plataforma Web</td>\n",
       "      <td>SE</td>\n",
       "      <td>SP</td>\n",
       "      <td>São Paulo</td>\n",
       "      <td>M</td>\n",
       "      <td>entre 31 a 40 anos</td>\n",
       "      <td>2014</td>\n",
       "      <td>12</td>\n",
       "      <td>26/12/2014</td>\n",
       "      <td>...</td>\n",
       "      <td>Internet</td>\n",
       "      <td>S</td>\n",
       "      <td>S</td>\n",
       "      <td>Finalizada avaliada</td>\n",
       "      <td>Não Resolvida</td>\n",
       "      <td>1.0</td>\n",
       "      <td>NaN</td>\n",
       "      <td>N</td>\n",
       "      <td>N</td>\n",
       "      <td>1</td>\n",
       "    </tr>\n",
       "    <tr>\n",
       "      <th>43985</th>\n",
       "      <td>Departamento de Proteção e Defesa do Consumido...</td>\n",
       "      <td>Plataforma Web</td>\n",
       "      <td>S</td>\n",
       "      <td>RS</td>\n",
       "      <td>Dona Francisca</td>\n",
       "      <td>M</td>\n",
       "      <td>mais de 70 anos</td>\n",
       "      <td>2014</td>\n",
       "      <td>12</td>\n",
       "      <td>09/12/2014</td>\n",
       "      <td>...</td>\n",
       "      <td>Loja física</td>\n",
       "      <td>S</td>\n",
       "      <td>S</td>\n",
       "      <td>Finalizada não avaliada</td>\n",
       "      <td>Não Avaliada</td>\n",
       "      <td>NaN</td>\n",
       "      <td>NaN</td>\n",
       "      <td>N</td>\n",
       "      <td>N</td>\n",
       "      <td>1</td>\n",
       "    </tr>\n",
       "    <tr>\n",
       "      <th>43986</th>\n",
       "      <td>Fundação de Proteção e Defesa do Consumidor</td>\n",
       "      <td>Plataforma Web</td>\n",
       "      <td>SE</td>\n",
       "      <td>SP</td>\n",
       "      <td>Santos</td>\n",
       "      <td>F</td>\n",
       "      <td>entre 31 a 40 anos</td>\n",
       "      <td>2014</td>\n",
       "      <td>12</td>\n",
       "      <td>02/12/2014</td>\n",
       "      <td>...</td>\n",
       "      <td>Telefone</td>\n",
       "      <td>N</td>\n",
       "      <td>S</td>\n",
       "      <td>Finalizada avaliada</td>\n",
       "      <td>Resolvida</td>\n",
       "      <td>3.0</td>\n",
       "      <td>NaN</td>\n",
       "      <td>N</td>\n",
       "      <td>N</td>\n",
       "      <td>1</td>\n",
       "    </tr>\n",
       "  </tbody>\n",
       "</table>\n",
       "<p>43987 rows × 38 columns</p>\n",
       "</div>"
      ],
      "text/plain": [
       "                                                  Gestor   Canal de Origem  \\\n",
       "0                      Secretaria Nacional do Consumidor  Não identificado   \n",
       "1      Instituto Estadual de Proteção e Defesa do Con...  Não identificado   \n",
       "2                      Secretaria Nacional do Consumidor  Não identificado   \n",
       "3      Instituto de Promoção e Defesa do Cidadão e Co...  Não identificado   \n",
       "4      Secretaria de Desenvolvimento Social e Direito...  Não identificado   \n",
       "...                                                  ...               ...   \n",
       "43982         Instituto de Defesa do Consumidor - Procon    Plataforma Web   \n",
       "43983        Fundação de Proteção e Defesa do Consumidor    Plataforma Web   \n",
       "43984        Fundação de Proteção e Defesa do Consumidor    Plataforma Web   \n",
       "43985  Departamento de Proteção e Defesa do Consumido...    Plataforma Web   \n",
       "43986        Fundação de Proteção e Defesa do Consumidor    Plataforma Web   \n",
       "\n",
       "      Região  UF                 Cidade Sexo        Faixa Etária  \\\n",
       "0         SE  RJ               Itaboraí    M  entre 31 a 40 anos   \n",
       "1         SE  ES                  Serra    F  entre 31 a 40 anos   \n",
       "2         SE  RJ          Volta Redonda    M  entre 31 a 40 anos   \n",
       "3         NE  MA               São Luís    F  entre 31 a 40 anos   \n",
       "4         NE  PE                 Recife    M  entre 21 a 30 anos   \n",
       "...      ...  ..                    ...  ...                 ...   \n",
       "43982     CO  DF               Brasília    M  entre 31 a 40 anos   \n",
       "43983     SE  SP  São Bernardo do Campo    M  entre 31 a 40 anos   \n",
       "43984     SE  SP              São Paulo    M  entre 31 a 40 anos   \n",
       "43985     S   RS         Dona Francisca    M     mais de 70 anos   \n",
       "43986     SE  SP                 Santos    F  entre 31 a 40 anos   \n",
       "\n",
       "       Ano Abertura  Mês Abertura Data Abertura  ...   Como Comprou Contratou  \\\n",
       "0              2014             6    27/06/2014  ...  Não comprei / contratei   \n",
       "1              2014             6    11/06/2014  ...                 Internet   \n",
       "2              2014             6    27/06/2014  ...                 Internet   \n",
       "3              2014             5    29/05/2014  ...  Não comprei / contratei   \n",
       "4              2014             6    30/06/2014  ...                 Internet   \n",
       "...             ...           ...           ...  ...                      ...   \n",
       "43982          2014            12    01/12/2014  ...                 Internet   \n",
       "43983          2014            11    30/11/2014  ...                 Internet   \n",
       "43984          2014            12    26/12/2014  ...                 Internet   \n",
       "43985          2014            12    09/12/2014  ...              Loja física   \n",
       "43986          2014            12    02/12/2014  ...                 Telefone   \n",
       "\n",
       "      Procurou Empresa Respondida                 Situação  \\\n",
       "0                    S          S  Finalizada não avaliada   \n",
       "1                    S          S      Finalizada avaliada   \n",
       "2                    S          S      Finalizada avaliada   \n",
       "3                    S          S      Finalizada avaliada   \n",
       "4                    S          S  Finalizada não avaliada   \n",
       "...                ...        ...                      ...   \n",
       "43982                S          S  Finalizada não avaliada   \n",
       "43983                S          S      Finalizada avaliada   \n",
       "43984                S          S      Finalizada avaliada   \n",
       "43985                S          S  Finalizada não avaliada   \n",
       "43986                N          S      Finalizada avaliada   \n",
       "\n",
       "      Avaliação Reclamação Nota do Consumidor Análise da Recusa  \\\n",
       "0             Não Avaliada                NaN               NaN   \n",
       "1            Não Resolvida                1.0               NaN   \n",
       "2                Resolvida                5.0               NaN   \n",
       "3                Resolvida                5.0               NaN   \n",
       "4             Não Avaliada                NaN               NaN   \n",
       "...                    ...                ...               ...   \n",
       "43982         Não Avaliada                NaN               NaN   \n",
       "43983        Não Resolvida                1.0               NaN   \n",
       "43984        Não Resolvida                1.0               NaN   \n",
       "43985         Não Avaliada                NaN               NaN   \n",
       "43986            Resolvida                3.0               NaN   \n",
       "\n",
       "      Edição de Conteúdo Interação do Gestor Total  \n",
       "0                      N                   N     1  \n",
       "1                      N                   N     1  \n",
       "2                      N                   N     1  \n",
       "3                      N                   N     1  \n",
       "4                      N                   N     1  \n",
       "...                  ...                 ...   ...  \n",
       "43982                  N                   N     1  \n",
       "43983                  N                   N     1  \n",
       "43984                  N                   N     1  \n",
       "43985                  N                   N     1  \n",
       "43986                  N                   N     1  \n",
       "\n",
       "[43987 rows x 38 columns]"
      ]
     },
     "metadata": {},
     "output_type": "display_data"
    }
   ],
   "source": [
    "# importa a biblioteca pandas\n",
    "import pandas as pd\n",
    "# armazena os dados da tabela em uma estrutura tipo data frame\n",
    "base = pd.read_csv(\"dadosgovbr-2014.csv\",sep = ';', encoding=\"latin-1\")\n",
    "# visualizar alguns dados da tabela carregada\n",
    "display(base)"
   ]
  },
  {
   "cell_type": "markdown",
   "metadata": {},
   "source": [
    "Aí vai uma dica preciosa: Para responder questões relacionadas a frequência de ocorrências, como exemplo, você pode testar o comando a seguir:\n",
    "         \n",
    "         df.Região.value_counts()\n",
    "         \n",
    "O código acima retorna a quantidade de ocorrências de registros de uma determinada região. Use essa lógica quando necessário.\n",
    "Em relação as demais questões, consulte diversas fontes, caso necessário, para responder corretamente. Dessa forma, tendo como base o data frame em questão, responda as questões relacionadas:\n",
    "\n",
    "### Análise de Dados\n",
    "\n",
    "1. Qual a quantidade de reclamações registradas?\n",
    "2. Qual é o tempo médio, máximo e mínimo de resposta?\n",
    "3. Qual é a nota média, máxima e mínima do consumidor?\n",
    "4. Como podemos correlacionar a nota do consumidor com o tempo de resposta? Explique.\n",
    "5. Qual a quantidade de reclamações por Sexo?\n",
    "6. Qual a quantidade de reclamações por Estado?\n",
    "7. Qual é a porcentagem de reclamações registradas e não respondidas?\n",
    "\n",
    "### Visualização de Dados\n",
    "\n",
    "Neste momento iremos trabalhar com visualização de dados. Antes de iniciar a impressão dos gráficos, trate de fazer as configurações iniciais para que a impressão ocorra no Jupyter de maneira correta e com todos os requisitos necessários para melhoria da apresentação como um todo. Faça o melhor possível, como se fosse apresentar para o seu chefe. Siga as instruções a seguir:\n",
    "\n",
    "5. Gere um gráfico com titulo, nome dos eixos, cor e legenda para as seguintes situações:\n",
    "   * a) Frequência de reclamações por sexo\n",
    "   * b) Frequencia de reclamações por estado\n",
    "   * c) Frequência de reclamações respondidas e não respondidas\n",
    "6. Imagine que você é um Cientista de Dados responsável por medir a satisfação dos clientes. Para que você possa surpreender seu chefe, você deve fazer duas análises importantes sobre o data frame, incluindo no mínimo dois gráficos com suas devidas personalizações de titulo, nome dos eixos, legenda, estilos etc. Considere que, ao trazer informações relevantes para a empresa em que trabalha, mais chances de ter o seu trabalho reconhecido e de ser um profissional com maior valor no mercado. Capriche nos gráficos!"
   ]
  },
  {
   "cell_type": "code",
   "execution_count": 8,
   "metadata": {
    "scrolled": true
   },
   "outputs": [
    {
     "data": {
      "text/plain": [
       "43987"
      ]
     },
     "metadata": {},
     "output_type": "display_data"
    }
   ],
   "source": [
    "# Resposta questão 1: \n",
    "#Utilizando apenas o display(base) é possivel ver que tem 43987 linhas de reclamações, mas temos\n",
    "#a coluna total, vou usar sum(função para somar) para ver se tem algum com 2 ou mais reclamações na mesma linha\n",
    "display(base[\"Total\"].sum()) #Aqui vou somar quantas reclamações no total"
   ]
  },
  {
   "cell_type": "code",
   "execution_count": 14,
   "metadata": {},
   "outputs": [
    {
     "name": "stdout",
     "output_type": "stream",
     "text": [
      "Tempo médio de resposta: 6.667572269488335\n",
      "Tempo máximo de resposta: 13.0\n",
      "Tempo mínimo de resposta: 0.0\n"
     ]
    }
   ],
   "source": [
    "# Resposta questão 2: \n",
    "#display(base[\"Tempo Resposta\"].mean())\n",
    "#display(base[\"Tempo Resposta\"].max())\n",
    "#display(base[\"Tempo Resposta\"].min())\n",
    "print(f\"\"\"Tempo médio de resposta: {base[\"Tempo Resposta\"].mean()}\"\"\")\n",
    "print(f\"\"\"Tempo máximo de resposta: {base[\"Tempo Resposta\"].max()}\"\"\")\n",
    "print(f\"\"\"Tempo mínimo de resposta: {base[\"Tempo Resposta\"].min()}\"\"\")"
   ]
  },
  {
   "cell_type": "code",
   "execution_count": 16,
   "metadata": {},
   "outputs": [
    {
     "name": "stdout",
     "output_type": "stream",
     "text": [
      "Nota Média: 3.007021343486918\n",
      "Nota Máxima: 5.0\n",
      "Nota Mínima: 1.0\n"
     ]
    }
   ],
   "source": [
    "# Resposta questão 3: \n",
    "#Nota do Consumidor\n",
    "#display(base[\"Nota do Consumidor\"].mean())\n",
    "#display(base[\"Nota do Consumidor\"].max())\n",
    "#display(base[\"Nota do Consumidor\"].min())\n",
    "print(f\"\"\"Nota Média: {base[\"Nota do Consumidor\"].mean()}\"\"\")\n",
    "print(f\"\"\"Nota Máxima: {base[\"Nota do Consumidor\"].max()}\"\"\")\n",
    "print(f\"\"\"Nota Mínima: {base[\"Nota do Consumidor\"].min()}\"\"\")"
   ]
  },
  {
   "cell_type": "code",
   "execution_count": 17,
   "metadata": {},
   "outputs": [
    {
     "name": "stdout",
     "output_type": "stream",
     "text": [
      "Coeficiente de correlação: -0.18715017983593055\n"
     ]
    }
   ],
   "source": [
    "# Resposta questão 4: \n",
    "correlacao = base['Nota do Consumidor'].corr(base['Tempo Resposta'])\n",
    "\n",
    "print(\"Coeficiente de correlação:\", correlacao)"
   ]
  },
  {
   "cell_type": "code",
   "execution_count": 18,
   "metadata": {},
   "outputs": [
    {
     "data": {
      "text/plain": [
       "'Explicação:\\nAo interpretar o coeficiente de correlação, é essencial lembrar que:\\n\\nCorrelação próxima de 1: Indica uma correlação positiva forte, se o tempo de resposta aumenta a nota tambem aumenta..\\nCorrelação próxima de -1: Indica uma correlação negativa forte, se o tempo de resposta diminui, a nota tbm diminui..\\nCorrelação próxima de 0: Indica uma correlação muito fraca entre o tempo de resposta e a nota, ou seja, existem outras variaveis a serem levadas em consideração.\\n\\nnosso coeficiente deu próximo de -0.20, ou seja, há uma tendencia (MUITO FRACA) de que quando o tempo de repsosta aumenta, a nota diminui. Mas essa relação é fraca pois o valor está bem próximo de 0...\\n\\n'"
      ]
     },
     "execution_count": 18,
     "metadata": {},
     "output_type": "execute_result"
    }
   ],
   "source": [
    "'''Explicação:\n",
    "Ao interpretar o coeficiente de correlação, é essencial lembrar que:\n",
    "\n",
    "Correlação próxima de 1: Indica uma correlação positiva forte, se o tempo de resposta aumenta a nota tambem aumenta..\n",
    "Correlação próxima de -1: Indica uma correlação negativa forte, se o tempo de resposta diminui, a nota tbm diminui..\n",
    "Correlação próxima de 0: Indica uma correlação muito fraca entre o tempo de resposta e a nota, ou seja, existem outras variaveis a serem levadas em consideração.\n",
    "\n",
    "nosso coeficiente deu próximo de -0.20, ou seja, há uma tendencia (MUITO FRACA) de que quando o tempo de repsosta aumenta, a nota diminui. Mas essa relação é fraca pois o valor está bem próximo de 0...\n",
    "\n",
    "Há outras variáveis a serem levadas em consideração, uma delas por exemplo é se o problema foi solucionado ou não.\n",
    "Citando dois exemplos:\n",
    "\n",
    "No primeiro a empresa demorou muitos dias para responder mas solucionou o problema de forma bem satisfatoria, entao o cliente pode dar uma nota boa.\n",
    "\n",
    "no segundo exemplo a empresa respondeu rapidamente porém não solucionou o problema. então o cliente pode dar uma nota baixa\n",
    "\n",
    "'''"
   ]
  },
  {
   "cell_type": "code",
   "execution_count": 20,
   "metadata": {},
   "outputs": [
    {
     "data": {
      "text/plain": [
       "Sexo\n",
       "M    27895\n",
       "F    16092\n",
       "Name: count, dtype: int64"
      ]
     },
     "execution_count": 20,
     "metadata": {},
     "output_type": "execute_result"
    }
   ],
   "source": [
    "base.Sexo.value_counts()"
   ]
  },
  {
   "cell_type": "code",
   "execution_count": 24,
   "metadata": {},
   "outputs": [
    {
     "data": {
      "text/plain": [
       "UF\n",
       "SP    11882\n",
       "PR     6140\n",
       "RJ     4907\n",
       "MG     4186\n",
       "BA     2443\n",
       "RS     1941\n",
       "DF     1805\n",
       "PE     1626\n",
       "SC     1458\n",
       "MA     1082\n",
       "ES     1081\n",
       "CE     1068\n",
       "MT     1012\n",
       "GO      886\n",
       "MS      531\n",
       "AC      449\n",
       "PB      343\n",
       "AM      291\n",
       "PA      211\n",
       "RN      160\n",
       "RO      119\n",
       "AL      104\n",
       "SE       97\n",
       "PI       77\n",
       "TO       46\n",
       "RR       24\n",
       "AP       18\n",
       "Name: count, dtype: int64"
      ]
     },
     "execution_count": 24,
     "metadata": {},
     "output_type": "execute_result"
    }
   ],
   "source": [
    "base.UF.value_counts()"
   ]
  },
  {
   "cell_type": "code",
   "execution_count": 28,
   "metadata": {},
   "outputs": [
    {
     "data": {
      "text/plain": [
       "Respondida\n",
       "S    0.953941\n",
       "N    0.046059\n",
       "Name: proportion, dtype: float64"
      ]
     },
     "execution_count": 28,
     "metadata": {},
     "output_type": "execute_result"
    }
   ],
   "source": [
    "#display(base[\"Respondida\"].value_counts())\n",
    "base.Respondida.value_counts(normalize=True)"
   ]
  },
  {
   "cell_type": "markdown",
   "metadata": {},
   "source": [
    "em média 95% respondida e 5% não respondida"
   ]
  },
  {
   "cell_type": "code",
   "execution_count": 69,
   "metadata": {},
   "outputs": [
    {
     "data": {
      "text/plain": [
       "Sexo\n",
       "F    16092\n",
       "M    27895\n",
       "Name: Total, dtype: int64"
      ]
     },
     "metadata": {},
     "output_type": "display_data"
    },
    {
     "data": {
      "image/png": "[encoded data removed]",
      "text/plain": [
       "<Figure size 640x480 with 1 Axes>"
      ]
     },
     "metadata": {},
     "output_type": "display_data"
    }
   ],
   "source": [
    "# Resposta questão 5a: \n",
    "import matplotlib.pyplot as plt\n",
    "\n",
    "\n",
    "display(base.groupby(\"Sexo\")[\"Total\"].sum())\n",
    "plt.hist(base[\"Sexo\"], bins=3, color='red')\n",
    "plt.title('Frequência de Reclamações por Sexo (Histograma)')\n",
    "plt.xlabel('Sexo')\n",
    "plt.ylabel('Reclamações')\n",
    "plt.show()\n",
    "\n"
   ]
  },
  {
   "cell_type": "code",
   "execution_count": 64,
   "metadata": {},
   "outputs": [
    {
     "data": {
      "text/plain": [
       "UF\n",
       "AC      449\n",
       "AL      104\n",
       "AM      291\n",
       "AP       18\n",
       "BA     2443\n",
       "CE     1068\n",
       "DF     1805\n",
       "ES     1081\n",
       "GO      886\n",
       "MA     1082\n",
       "MG     4186\n",
       "MS      531\n",
       "MT     1012\n",
       "PA      211\n",
       "PB      343\n",
       "PE     1626\n",
       "PI       77\n",
       "PR     6140\n",
       "RJ     4907\n",
       "RN      160\n",
       "RO      119\n",
       "RR       24\n",
       "RS     1941\n",
       "SC     1458\n",
       "SE       97\n",
       "SP    11882\n",
       "TO       46\n",
       "Name: Total, dtype: int64"
      ]
     },
     "metadata": {},
     "output_type": "display_data"
    },
    {
     "data": {
      "image/png": "[encoded data removed]",
      "text/plain": [
       "<Figure size 1000x600 with 1 Axes>"
      ]
     },
     "metadata": {},
     "output_type": "display_data"
    }
   ],
   "source": [
    "# Resposta questão 5b: \n",
    "\n",
    "# Histograma para a frequência de reclamações por estado\n",
    "display(base.groupby(\"UF\")[\"Total\"].sum())\n",
    "plt.figure(figsize=(10, 6))  # Ajuste o tamanho da figura (largura, altura)\n",
    "plt.hist(base[\"UF\"], bins=50, color='green')\n",
    "plt.title('Frequência de Reclamações por Estado')\n",
    "plt.xlabel('Estado')\n",
    "plt.ylabel('Reclamações')\n",
    "plt.tight_layout()  # Para evitar que os rótulos se sobreponham\n",
    "plt.show()"
   ]
  },
  {
   "cell_type": "code",
   "execution_count": 67,
   "metadata": {},
   "outputs": [
    {
     "data": {
      "text/plain": [
       "Respondida\n",
       "N     2026\n",
       "S    41961\n",
       "Name: Total, dtype: int64"
      ]
     },
     "metadata": {},
     "output_type": "display_data"
    },
    {
     "data": {
      "image/png": "[encoded data removed]",
      "text/plain": [
       "<Figure size 640x480 with 1 Axes>"
      ]
     },
     "metadata": {},
     "output_type": "display_data"
    }
   ],
   "source": [
    "# Resposta questão 5c: \n",
    "display(base.groupby(\"Respondida\")[\"Total\"].sum())\n",
    "plt.hist(base[\"Respondida\"], bins=3, color='blue')\n",
    "plt.title('Frequência de Reclamações Respondidas')\n",
    "plt.xlabel('Respondida [s/n]')\n",
    "plt.ylabel('Reclamações')\n",
    "plt.show()"
   ]
  },
  {
   "cell_type": "code",
   "execution_count": null,
   "metadata": {},
   "outputs": [],
   "source": [
    "# Resposta questão 6a: Acho que já foi realizado nos gráficos acima"
   ]
  },
  {
   "cell_type": "code",
   "execution_count": null,
   "metadata": {},
   "outputs": [],
   "source": [
    "# Resposta questão 6b: Acho que já foi realizado nos gráficos acima"
   ]
  }
 ],
 "metadata": {
  "kernelspec": {
   "display_name": "Python 3",
   "language": "python",
   "name": "python3"
  },
  "language_info": {
   "codemirror_mode": {
    "name": "ipython",
    "version": 3
   },
   "file_extension": ".py",
   "mimetype": "text/x-python",
   "name": "python",
   "nbconvert_exporter": "python",
   "pygments_lexer": "ipython3",
   "version": "3.11.3"
  }
 },
 "nbformat": 4,
 "nbformat_minor": 4
}
